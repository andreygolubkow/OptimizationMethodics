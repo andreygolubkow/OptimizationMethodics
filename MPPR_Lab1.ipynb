{
  "nbformat": 4,
  "nbformat_minor": 0,
  "metadata": {
    "colab": {
      "name": "MPPR Lab1.ipynb",
      "version": "0.3.2",
      "provenance": [],
      "collapsed_sections": [],
      "include_colab_link": true
    },
    "kernelspec": {
      "name": "python3",
      "display_name": "Python 3"
    }
  },
  "cells": [
    {
      "cell_type": "markdown",
      "metadata": {
        "id": "view-in-github",
        "colab_type": "text"
      },
      "source": [
        "<a href=\"https://colab.research.google.com/github/andreygolubkow/OptimizationMethodics/blob/master/MPPR_Lab1.ipynb\" target=\"_parent\"><img src=\"https://colab.research.google.com/assets/colab-badge.svg\" alt=\"Open In Colab\"/></a>"
      ]
    },
    {
      "metadata": {
        "id": "EcccCVEXNvRC",
        "colab_type": "text"
      },
      "cell_type": "markdown",
      "source": [
        "В блоке ниже представлено решение с помощью внутренних алгоритмов языка, они  работают верно.\n",
        "Где def f(x), после return пишем свою функцию. Вместо этой: math.sin(math.fabs(k*x)) .\n",
        "Где -0.6 и 0.6 это интервал.\n",
        "После запуска кода будет выведено число - это значение икса."
      ]
    },
    {
      "metadata": {
        "id": "ecuKQtuGHPCg",
        "colab_type": "code",
        "colab": {}
      },
      "cell_type": "code",
      "source": [
        "exp = 2.7182818284590452353602874713527\n",
        "\n",
        "A = -0.6\n",
        "B = 0.6\n",
        "\n",
        "def f(x):\n",
        "  k = 2\n",
        "  return math.sin(math.fabs(k*x))\n"
      ],
      "execution_count": 0,
      "outputs": []
    },
    {
      "metadata": {
        "id": "bHlhx-2mh8H-",
        "colab_type": "code",
        "outputId": "5d6dca08-3572-4a29-e825-df27092adea3",
        "colab": {
          "base_uri": "https://localhost:8080/",
          "height": 34
        }
      },
      "cell_type": "code",
      "source": [
        "import numpy as n\n",
        "from scipy.optimize import minimize_scalar\n",
        "\n",
        "res = minimize_scalar(f, bounds=(A, B), method='bounded')\n",
        "print (res.x)"
      ],
      "execution_count": 0,
      "outputs": [
        {
          "output_type": "stream",
          "text": [
            "2.7755575615628914e-17\n"
          ],
          "name": "stdout"
        }
      ]
    },
    {
      "metadata": {
        "id": "eynkqrl4OiHe",
        "colab_type": "text"
      },
      "cell_type": "markdown",
      "source": [
        "Метод деления отрезка"
      ]
    },
    {
      "metadata": {
        "id": "sikFQH0D0blx",
        "colab_type": "code",
        "outputId": "137b2ecc-dd80-42bd-f4d2-d57026c43351",
        "colab": {
          "base_uri": "https://localhost:8080/",
          "height": 34
        }
      },
      "cell_type": "code",
      "source": [
        "import math\n",
        "\n",
        "def Segment():\n",
        "  a = A\n",
        "  b = B\n",
        "  e = 0.0001\n",
        "  delta = (b-a)/10\n",
        "  while(math.fabs(b-a) <= e):\n",
        "    x1 = (a+b)/2 - delta\n",
        "    x2 = (a+b)/2 + delta\n",
        "    fx1 = f(x1)\n",
        "    fx2 = f(x2)\n",
        "    if (fx1 < fx2):\n",
        "      b = x2\n",
        "    if (fx1 > fx2):\n",
        "      a = x1\n",
        "  return (a+b)/2\n",
        "      \n",
        "print(Segment())"
      ],
      "execution_count": 0,
      "outputs": [
        {
          "output_type": "stream",
          "text": [
            "0.0\n"
          ],
          "name": "stdout"
        }
      ]
    },
    {
      "metadata": {
        "id": "zLT-0N9m-Xy2",
        "colab_type": "text"
      },
      "cell_type": "markdown",
      "source": [
        "Метод золотого сечения"
      ]
    },
    {
      "metadata": {
        "id": "cgY9uC5U-XEW",
        "colab_type": "code",
        "outputId": "c4e5e888-7c12-423b-a81a-a59e85711bae",
        "colab": {
          "base_uri": "https://localhost:8080/",
          "height": 34
        }
      },
      "cell_type": "code",
      "source": [
        "import math\n",
        "\n",
        "def GoldenSection():\n",
        "  a = A\n",
        "  b = B\n",
        "  e = 0.01\n",
        "  y = a + (3 - math.sqrt(5)) * (b-a) / 2\n",
        "  z = a + b - y\n",
        "  while(math.fabs(b - a) <= e):  \n",
        "    if (f(y) <= f(z)):\n",
        "      b = z\n",
        "      z = y\n",
        "      y0 = y\n",
        "      y = a + b - y0\n",
        "    if (f(y) > f(z)):\n",
        "      a = y\n",
        "      z0 = z\n",
        "      y = z\n",
        "      z = a + b - z0\n",
        "  return (a+b)/2\n",
        "      \n",
        "print(GoldenSection())"
      ],
      "execution_count": 0,
      "outputs": [
        {
          "output_type": "stream",
          "text": [
            "0.0\n"
          ],
          "name": "stdout"
        }
      ]
    },
    {
      "metadata": {
        "id": "4XSEOzHDsaq5",
        "colab_type": "text"
      },
      "cell_type": "markdown",
      "source": [
        "Классический метод"
      ]
    },
    {
      "metadata": {
        "id": "CdMNPQUPseWC",
        "colab_type": "code",
        "outputId": "7085e944-8d64-41dc-df47-9bb77b3823ad",
        "colab": {
          "base_uri": "https://localhost:8080/",
          "height": 136
        }
      },
      "cell_type": "code",
      "source": [
        "import math\n",
        "from scipy.misc import derivative\n",
        "\n",
        "def Find(f, a, b, eps=1e-5):\n",
        "    while abs(b - a) > eps:\n",
        "        x = (a + b) / 2.0\n",
        "        fx = derivative(f, x, dx = eps)\n",
        "        fa = derivative(f, a, dx = eps)\n",
        "        if (fx < 0 and fa < 0) or (fx > 0 and fa > 0):\n",
        "            a = x\n",
        "        else:\n",
        "            b = x\n",
        "    return x\n",
        "\n",
        "def ValidateMinimum(x):\n",
        "  delta = 0.0001\n",
        "  eps=1e-5\n",
        "  dfMin = derivative(f, x - delta, dx = eps)\n",
        "  dfMax = derivative(f, x + delta, dx = eps)\n",
        "  print(\"df(x-delta)=\", dfMin)\n",
        "  print(\"df(x+delta)=\", dfMax)\n",
        "  if (dfMin < 0) and (dfMax > 0):\n",
        "    print(\"This is the minimum point\")\n",
        "    \n",
        "    \n",
        "x = Find(f, A, B)\n",
        "print(\"x =\",x)\n",
        "ValidateMinimum(x)\n",
        "print(\"f(a)=\", f(A))\n",
        "print(\"f(b)=\", f(B))\n",
        "print(\"f(x)=\", f(x))\n"
      ],
      "execution_count": 0,
      "outputs": [
        {
          "output_type": "stream",
          "text": [
            "x = -9.1552734375e-06\n",
            "df(x-delta)= -1.9999999522071725\n",
            "df(x+delta)= 1.9999999668556085\n",
            "This is the minimum point\n",
            "f(a)= 0.9320390859672263\n",
            "f(b)= 0.9320390859672263\n",
            "f(x)= 1.8310546873976817e-05\n"
          ],
          "name": "stdout"
        }
      ]
    },
    {
      "metadata": {
        "id": "Fbv-mVOHW2Cg",
        "colab_type": "code",
        "outputId": "045a273c-9e02-4676-d52a-db4c5d49ab59",
        "colab": {
          "base_uri": "https://localhost:8080/",
          "height": 381
        }
      },
      "cell_type": "code",
      "source": [
        "import math\n",
        "import pylab\n",
        "from matplotlib import mlab\n",
        "\n",
        "dx = 0.001\n",
        "xlist = mlab.frange (A, B, dx)\n",
        "ylist = [f (x) for x in xlist]\n",
        "pylab.plot (xlist, ylist)\n",
        "pylab.show()"
      ],
      "execution_count": 0,
      "outputs": [
        {
          "output_type": "stream",
          "text": [
            "/usr/local/lib/python3.6/dist-packages/ipykernel_launcher.py:6: MatplotlibDeprecationWarning: numpy.arange\n",
            "  \n"
          ],
          "name": "stderr"
        },
        {
          "output_type": "display_data",
          "data": {
            "image/png": "[encoded data removed]",
            "text/plain": [
              "<Figure size 576x396 with 1 Axes>"
            ]
          },
          "metadata": {
            "tags": []
          }
        }
      ]
    }
  ]
}