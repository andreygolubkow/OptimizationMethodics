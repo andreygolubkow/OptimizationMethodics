{
  "nbformat": 4,
  "nbformat_minor": 0,
  "metadata": {
    "colab": {
      "name": "MPPR Lab1.ipynb",
      "version": "0.3.2",
      "provenance": [],
      "collapsed_sections": [],
      "include_colab_link": true
    },
    "kernelspec": {
      "name": "python3",
      "display_name": "Python 3"
    }
  },
  "cells": [
    {
      "cell_type": "markdown",
      "metadata": {
        "id": "view-in-github",
        "colab_type": "text"
      },
      "source": [
        "<a href=\"https://colab.research.google.com/github/andreygolubkow/OptimizationMethodics/blob/master/MPPR_Lab1.ipynb\" target=\"_parent\"><img src=\"https://colab.research.google.com/assets/colab-badge.svg\" alt=\"Open In Colab\"/></a>"
      ]
    },
    {
      "metadata": {
        "id": "EcccCVEXNvRC",
        "colab_type": "text"
      },
      "cell_type": "markdown",
      "source": [
        "В блоке ниже представлено решение с помощью внутренних алгоритмов языка, они точно работают верно.\n",
        "Где def f(x), после return пишем свою функцию. Вместо этой: math.sin(math.fabs(k*x)) .\n",
        "Где -0.6 и 0.6 это интервал.\n",
        "После запуска кода будет выведено число - это значение икса."
      ]
    },
    {
      "metadata": {
        "id": "ecuKQtuGHPCg",
        "colab_type": "code",
        "colab": {}
      },
      "cell_type": "code",
      "source": [
        "exp = 2.7182818284590452353602874713527\n",
        "A = 0.1\n",
        "B = 0.9\n",
        "\n",
        "def f(x):\n",
        "  k = 2\n",
        "  return math.sin(math.fabs(k*x))\n",
        "\n",
        "def f(x):\n",
        "  return x ** 4 + exp ** -x"
      ],
      "execution_count": 0,
      "outputs": []
    },
    {
      "metadata": {
        "id": "bHlhx-2mh8H-",
        "colab_type": "code",
        "outputId": "5e5b40b5-7ce2-4f50-ace6-2266b0e2ca80",
        "colab": {
          "base_uri": "https://localhost:8080/",
          "height": 34
        }
      },
      "cell_type": "code",
      "source": [
        "import numpy as n\n",
        "from scipy.optimize import minimize_scalar\n",
        "\n",
        "res = minimize_scalar(f, bounds=(A, B), method='bounded')\n",
        "print (res.x)"
      ],
      "execution_count": 37,
      "outputs": [
        {
          "output_type": "stream",
          "text": [
            "0.5282526428206358\n"
          ],
          "name": "stdout"
        }
      ]
    },
    {
      "metadata": {
        "id": "eynkqrl4OiHe",
        "colab_type": "text"
      },
      "cell_type": "markdown",
      "source": [
        "Метод деления отрезка"
      ]
    },
    {
      "metadata": {
        "id": "sikFQH0D0blx",
        "colab_type": "code",
        "outputId": "0fd140cb-48dd-409f-ee33-31eac62c99e7",
        "colab": {
          "base_uri": "https://localhost:8080/",
          "height": 34
        }
      },
      "cell_type": "code",
      "source": [
        "import math\n",
        "\n",
        "def Segment():\n",
        "  a = A\n",
        "  b = B\n",
        "  e = 0.0001\n",
        "  delta = (b-a)/10\n",
        "  while(math.fabs(b-a) <= e):\n",
        "    x1 = (a+b)/2 - delta\n",
        "    x2 = (a+b)/2 + delta\n",
        "    fx1 = f(x1)\n",
        "    fx2 = f(x2)\n",
        "    if (fx1 < fx2):\n",
        "      b = x2\n",
        "    if (fx1 > fx2):\n",
        "      a = x1\n",
        "  return (a+b)/2\n",
        "      \n",
        "print(Segment())"
      ],
      "execution_count": 38,
      "outputs": [
        {
          "output_type": "stream",
          "text": [
            "0.5\n"
          ],
          "name": "stdout"
        }
      ]
    },
    {
      "metadata": {
        "id": "zLT-0N9m-Xy2",
        "colab_type": "text"
      },
      "cell_type": "markdown",
      "source": [
        "Метод золотого сечения"
      ]
    },
    {
      "metadata": {
        "id": "cgY9uC5U-XEW",
        "colab_type": "code",
        "outputId": "1111b914-2913-4aec-9f66-352d76e28d99",
        "colab": {
          "base_uri": "https://localhost:8080/",
          "height": 34
        }
      },
      "cell_type": "code",
      "source": [
        "import math\n",
        "\n",
        "def GoldenSection():\n",
        "  a = A\n",
        "  b = B\n",
        "  e = 0.01\n",
        "  y = a + (3 - math.sqrt(5)) * (b-a) / 2\n",
        "  z = a + b - y\n",
        "  while(math.fabs(b - a) <= e):  \n",
        "    if (f(y) <= f(z)):\n",
        "      b = z\n",
        "      z = y\n",
        "      y0 = y\n",
        "      y = a + b - y0\n",
        "    if (f(y) > f(z)):\n",
        "      a = y\n",
        "      z0 = z\n",
        "      y = z\n",
        "      z = a + b - z0\n",
        "  return (a+b)/2\n",
        "      \n",
        "print(GoldenSection())"
      ],
      "execution_count": 39,
      "outputs": [
        {
          "output_type": "stream",
          "text": [
            "0.5\n"
          ],
          "name": "stdout"
        }
      ]
    },
    {
      "metadata": {
        "id": "4XSEOzHDsaq5",
        "colab_type": "text"
      },
      "cell_type": "markdown",
      "source": [
        "Классический метод"
      ]
    },
    {
      "metadata": {
        "id": "CdMNPQUPseWC",
        "colab_type": "code",
        "colab": {
          "base_uri": "https://localhost:8080/",
          "height": 136
        },
        "outputId": "183b3bbe-2097-45e4-9568-82e9dafb2fa3"
      },
      "cell_type": "code",
      "source": [
        "import math\n",
        "from scipy.misc import derivative\n",
        "\n",
        "def Find(f, a, b, eps=1e-5):\n",
        "    while abs(b - a) > eps:\n",
        "        x = (a + b) / 2.0\n",
        "        fx = derivative(f, x, dx = eps)\n",
        "        fa = derivative(f, a, dx = eps)\n",
        "        if (fx < 0 and fa < 0) or (fx > 0 and fa > 0):\n",
        "            a = x\n",
        "        else:\n",
        "            b = x\n",
        "    return x\n",
        "\n",
        "def ValidateMinimum(x):\n",
        "  delta = 0.0001\n",
        "  eps=1e-5\n",
        "  dfMin = derivative(f, x - delta, dx = eps)\n",
        "  dfMax = derivative(f, x + delta, dx = eps)\n",
        "  print(\"df(x-delta)=\", dfMin)\n",
        "  print(\"df(x+delta)=\", dfMax)\n",
        "  if (dfMin < 0) and (dfMax > 0):\n",
        "    print(\"This is the minimum point\")\n",
        "    \n",
        "    \n",
        "x = Find(f, A, B)\n",
        "print(\"x =\",x)\n",
        "ValidateMinimum(x)\n",
        "print(\"f(a)=\", f(A))\n",
        "print(\"f(b)=\", f(B))\n",
        "print(\"f(x)=\", f(x))\n"
      ],
      "execution_count": 41,
      "outputs": [
        {
          "output_type": "stream",
          "text": [
            "x = 0.528253173828125\n",
            "df(x-delta)= -0.0003886393373786489\n",
            "df(x+delta)= 0.00039901087989235856\n",
            "This is the minimum point\n",
            "f(a)= 0.9049374180359595\n",
            "f(b)= 1.0626696597405991\n",
            "f(x)= 0.6675037513840764\n"
          ],
          "name": "stdout"
        }
      ]
    }
  ]
}